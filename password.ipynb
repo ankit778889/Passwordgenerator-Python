{
 "cells": [
  {
   "cell_type": "code",
   "execution_count": 3,
   "id": "edbb0d4d-9e2c-43ba-94e0-45a7401de5c8",
   "metadata": {},
   "outputs": [],
   "source": [
    "import random as rm"
   ]
  },
  {
   "cell_type": "code",
   "execution_count": 4,
   "id": "737aaf68-dacd-4175-b5de-5f87cea6f33e",
   "metadata": {},
   "outputs": [
    {
     "name": "stdout",
     "output_type": "stream",
     "text": [
      "the password is: 1W@uFDzQd\n"
     ]
    }
   ],
   "source": [
    "symbols = '[]{}!@#$%^&*'\n",
    "lower= 'qwertyuiopasdfghjklzxcvbnm'\n",
    "uper='AQWERTYUIOPASDFGHJKLZXCVBNM'\n",
    "number='1234567890'\n",
    "\n",
    "\n",
    "all= uper+lower+number+symbols\n",
    "length=9\n",
    "password=''.join(rm.sample(all,length))\n",
    "print('the password is:',password)"
   ]
  },
  {
   "cell_type": "code",
   "execution_count": null,
   "id": "56188b3c-9997-4dda-8bfe-c597ee088d51",
   "metadata": {},
   "outputs": [],
   "source": []
  }
 ],
 "metadata": {
  "kernelspec": {
   "display_name": "Python 3 (ipykernel)",
   "language": "python",
   "name": "python3"
  },
  "language_info": {
   "codemirror_mode": {
    "name": "ipython",
    "version": 3
   },
   "file_extension": ".py",
   "mimetype": "text/x-python",
   "name": "python",
   "nbconvert_exporter": "python",
   "pygments_lexer": "ipython3",
   "version": "3.11.7"
  }
 },
 "nbformat": 4,
 "nbformat_minor": 5
}
